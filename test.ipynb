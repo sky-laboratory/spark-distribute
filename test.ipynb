{
 "cells": [
  {
   "cell_type": "code",
   "execution_count": 1,
   "metadata": {},
   "outputs": [
    {
     "name": "stdout",
     "output_type": "stream",
     "text": [
      "23/02/08 18:00:07 WARN Utils: Your hostname, imhaneul-ui-MacBookPro.local resolves to a loopback address: 127.0.0.1; using 172.30.1.27 instead (on interface en0)\n",
      "23/02/08 18:00:07 WARN Utils: Set SPARK_LOCAL_IP if you need to bind to another address\n"
     ]
    },
    {
     "name": "stderr",
     "output_type": "stream",
     "text": [
      "Setting default log level to \"WARN\".\n",
      "To adjust logging level use sc.setLogLevel(newLevel). For SparkR, use setLogLevel(newLevel).\n"
     ]
    },
    {
     "name": "stdout",
     "output_type": "stream",
     "text": [
      "23/02/08 18:00:08 WARN NativeCodeLoader: Unable to load native-hadoop library for your platform... using builtin-java classes where applicable\n",
      "23/02/08 18:00:09 WARN Utils: Service 'SparkUI' could not bind on port 4040. Attempting port 4041.\n"
     ]
    }
   ],
   "source": [
    "from pyspark.sql import SparkSession\n",
    "\n",
    "MAX_MEMORY = \"5g\"\n",
    "spark = SparkSession.builder.master(\"local\").appName(\"taxi_ml\")\\\n",
    "    .config(\"spark.executer.memory\", MAX_MEMORY)\\\n",
    "    .config(\"spark.drive.memory\", MAX_MEMORY).getOrCreate()"
   ]
  },
  {
   "cell_type": "code",
   "execution_count": 2,
   "metadata": {},
   "outputs": [
    {
     "name": "stderr",
     "output_type": "stream",
     "text": [
      "                                                                                \r"
     ]
    }
   ],
   "source": [
    "trip_files = \"/Users/imhaneul/Documents/sky-laboratory/spark-distribute/data/trips/*\"\n",
    "trip_data = spark.read.parquet(f\"file:///{trip_files}\")"
   ]
  },
  {
   "cell_type": "code",
   "execution_count": 3,
   "metadata": {},
   "outputs": [
    {
     "name": "stdout",
     "output_type": "stream",
     "text": [
      "root\n",
      " |-- VendorID: long (nullable = true)\n",
      " |-- tpep_pickup_datetime: timestamp (nullable = true)\n",
      " |-- tpep_dropoff_datetime: timestamp (nullable = true)\n",
      " |-- passenger_count: double (nullable = true)\n",
      " |-- trip_distance: double (nullable = true)\n",
      " |-- RatecodeID: double (nullable = true)\n",
      " |-- store_and_fwd_flag: string (nullable = true)\n",
      " |-- PULocationID: long (nullable = true)\n",
      " |-- DOLocationID: long (nullable = true)\n",
      " |-- payment_type: long (nullable = true)\n",
      " |-- fare_amount: double (nullable = true)\n",
      " |-- extra: double (nullable = true)\n",
      " |-- mta_tax: double (nullable = true)\n",
      " |-- tip_amount: double (nullable = true)\n",
      " |-- tolls_amount: double (nullable = true)\n",
      " |-- improvement_surcharge: double (nullable = true)\n",
      " |-- total_amount: double (nullable = true)\n",
      " |-- congestion_surcharge: double (nullable = true)\n",
      " |-- airport_fee: double (nullable = true)\n",
      "\n"
     ]
    }
   ],
   "source": [
    "trip_data.printSchema()\n",
    "trip_data.createOrReplaceTempView(\"trips\")"
   ]
  },
  {
   "attachments": {},
   "cell_type": "markdown",
   "metadata": {},
   "source": [
    "### 거리당 요금을 예측해보자..!\n"
   ]
  },
  {
   "cell_type": "code",
   "execution_count": 5,
   "metadata": {},
   "outputs": [
    {
     "name": "stderr",
     "output_type": "stream",
     "text": [
      "                                                                                \r"
     ]
    },
    {
     "name": "stdout",
     "output_type": "stream",
     "text": [
      "+-------+-----------------+-----------------+\n",
      "|summary|    trip_distance|     total_amount|\n",
      "+-------+-----------------+-----------------+\n",
      "|  count|         15000936|         15000936|\n",
      "|   mean|6.628556730060513|  18.755400510292|\n",
      "| stddev|671.7240645480996|145.7431021908545|\n",
      "|    min|              0.0|           -647.8|\n",
      "|    max|        332541.19|         398469.2|\n",
      "+-------+-----------------+-----------------+\n",
      "\n"
     ]
    }
   ],
   "source": [
    "qs = \"\"\"\n",
    "SELECT \n",
    "    trip_distance,\n",
    "    total_amount\n",
    "FROM\n",
    "    trips\n",
    "\"\"\"\n",
    "spark.sql(qs).describe().show()"
   ]
  },
  {
   "cell_type": "code",
   "execution_count": 34,
   "metadata": {},
   "outputs": [
    {
     "name": "stderr",
     "output_type": "stream",
     "text": [
      "[Stage 28:======================================>                   (2 + 1) / 3]\r"
     ]
    },
    {
     "name": "stdout",
     "output_type": "stream",
     "text": [
      "+--------------------+------------+-------------+\n",
      "|tpep_pickup_datetime|total_amount|trip_distance|\n",
      "+--------------------+------------+-------------+\n",
      "| 2021-03-18 21:10:41|    398469.2|          0.0|\n",
      "| 2021-04-10 22:14:49|   395854.74|          5.7|\n",
      "| 2021-01-05 01:04:51|     7661.28|         2.05|\n",
      "| 2021-02-05 02:25:03|      6969.3|         2.62|\n",
      "| 2021-03-28 02:09:56|      6010.8|          1.6|\n",
      "| 2021-05-03 03:13:44|      5954.0|          0.0|\n",
      "| 2021-02-11 04:00:54|      4973.3|         5.85|\n",
      "| 2021-02-07 23:08:10|      3558.0|          0.0|\n",
      "| 2021-03-30 21:12:07|      2413.8|       964.27|\n",
      "| 2021-01-20 20:22:05|      2292.4|        427.7|\n",
      "| 2021-04-29 20:04:15|      2059.3|       821.54|\n",
      "| 2021-07-27 22:08:58|      1320.8|        25.77|\n",
      "| 2021-05-27 08:13:15|      1165.3|        16.03|\n",
      "| 2021-01-12 21:57:36|     1155.65|        326.1|\n",
      "| 2021-01-03 20:36:52|      1108.2|        267.7|\n",
      "| 2021-07-31 20:18:09|      988.35|          9.7|\n",
      "| 2021-06-27 06:31:19|      958.05|          0.0|\n",
      "| 2021-01-11 03:51:32|      900.35|          0.0|\n",
      "| 2021-05-22 11:09:36|      895.35|          0.2|\n",
      "| 2021-01-19 20:38:47|       894.2|        260.5|\n",
      "+--------------------+------------+-------------+\n",
      "only showing top 20 rows\n",
      "\n"
     ]
    },
    {
     "name": "stderr",
     "output_type": "stream",
     "text": [
      "                                                                                \r"
     ]
    }
   ],
   "source": [
    "qs = \"\"\"\n",
    "SELECT \n",
    "    tpep_pickup_datetime,\n",
    "    total_amount,\n",
    "    trip_distance\n",
    "FROM \n",
    "    trips\n",
    "ORDER BY \n",
    "    total_amount DESC\n",
    "\"\"\"\n",
    "spark.sql(qs).show()"
   ]
  },
  {
   "cell_type": "code",
   "execution_count": 52,
   "metadata": {},
   "outputs": [],
   "source": [
    "qs = \"\"\"\n",
    "SELECT \n",
    "    total_amount,\n",
    "    trip_distance\n",
    "FROM \n",
    "    trips\n",
    "WHERE \n",
    "    trip_distance BETWEEN 1 AND 500\n",
    "    AND total_amount BETWEEN 1 AND 2500 \n",
    "    AND TO_DATE(tpep_pickup_datetime) < '2022-01-01' \n",
    "    AND TO_DATE(tpep_pickup_datetime) < '2022-08-01'\n",
    "    AND passenger_count > 4\n",
    "\"\"\"\n",
    "data_df = spark.sql(qs)\n",
    "data_df.createOrReplaceTempView(\"data\")"
   ]
  },
  {
   "cell_type": "code",
   "execution_count": 53,
   "metadata": {},
   "outputs": [
    {
     "name": "stdout",
     "output_type": "stream",
     "text": [
      "root\n",
      " |-- total_amount: double (nullable = true)\n",
      " |-- trip_distance: double (nullable = true)\n",
      "\n"
     ]
    }
   ],
   "source": [
    "data_df.printSchema()"
   ]
  },
  {
   "cell_type": "code",
   "execution_count": 54,
   "metadata": {},
   "outputs": [
    {
     "name": "stderr",
     "output_type": "stream",
     "text": [
      "[Stage 36:======================================>                   (2 + 1) / 3]\r"
     ]
    },
    {
     "name": "stdout",
     "output_type": "stream",
     "text": [
      "+-------+------------------+-----------------+\n",
      "|summary|      total_amount|    trip_distance|\n",
      "+-------+------------------+-----------------+\n",
      "|  count|            467036|           467036|\n",
      "|   mean| 20.12251595163897|3.485057147628969|\n",
      "| stddev|13.143114935269733|3.765728306936318|\n",
      "|    min|              1.75|              1.0|\n",
      "|    max|            561.05|            144.7|\n",
      "+-------+------------------+-----------------+\n",
      "\n"
     ]
    },
    {
     "name": "stderr",
     "output_type": "stream",
     "text": [
      "                                                                                \r"
     ]
    }
   ],
   "source": [
    "data_df.describe().show()"
   ]
  },
  {
   "cell_type": "code",
   "execution_count": 55,
   "metadata": {},
   "outputs": [],
   "source": [
    "train_df, test_df = data_df.randomSplit([0.8, 0.2], seed=2023)"
   ]
  },
  {
   "cell_type": "code",
   "execution_count": 57,
   "metadata": {},
   "outputs": [],
   "source": [
    "from pyspark.ml.feature import VectorAssembler\n",
    "\n",
    "vectorassemb = VectorAssembler(inputCols=[\"trip_distance\"], outputCol=\"features\")"
   ]
  },
  {
   "cell_type": "code",
   "execution_count": 59,
   "metadata": {},
   "outputs": [],
   "source": [
    "vtrain_df = vectorassemb.transform(train_df)"
   ]
  },
  {
   "cell_type": "code",
   "execution_count": 80,
   "metadata": {},
   "outputs": [],
   "source": [
    "from pyspark.ml.regression import LinearRegression\n",
    "\n",
    "lr = LinearRegression(\n",
    "    maxIter=40,\n",
    "    labelCol=\"total_amount\",\n",
    "    featuresCol=\"features\",\n",
    "    regParam=0.01\n",
    ")"
   ]
  },
  {
   "cell_type": "code",
   "execution_count": 81,
   "metadata": {},
   "outputs": [
    {
     "name": "stderr",
     "output_type": "stream",
     "text": [
      "                                                                                \r"
     ]
    }
   ],
   "source": [
    "model = lr.fit(vtrain_df)"
   ]
  },
  {
   "cell_type": "code",
   "execution_count": 82,
   "metadata": {},
   "outputs": [],
   "source": [
    "vtest_df = vectorassemb.transform(test_df)"
   ]
  },
  {
   "cell_type": "code",
   "execution_count": 83,
   "metadata": {},
   "outputs": [],
   "source": [
    "pred = model.transform(vtest_df)"
   ]
  },
  {
   "cell_type": "code",
   "execution_count": 84,
   "metadata": {},
   "outputs": [
    {
     "name": "stdout",
     "output_type": "stream",
     "text": [
      "4.359258020212368\n",
      "0.8907464954519646\n"
     ]
    }
   ],
   "source": [
    "print(model.summary.rootMeanSquaredError)\n",
    "print(model.summary.r2)"
   ]
  },
  {
   "cell_type": "code",
   "execution_count": 92,
   "metadata": {},
   "outputs": [
    {
     "name": "stderr",
     "output_type": "stream",
     "text": [
      "[Stage 57:>                                                         (0 + 1) / 1]\r"
     ]
    },
    {
     "name": "stdout",
     "output_type": "stream",
     "text": [
      "+------------+-------------+--------+------------------+\n",
      "|total_amount|trip_distance|features|        prediction|\n",
      "+------------+-------------+--------+------------------+\n",
      "|         5.8|          1.0|   [1.0]|11.925152378056435|\n",
      "|         6.3|          1.0|   [1.0]|11.925152378056435|\n",
      "|         6.3|         1.03|  [1.03]|12.024174736540967|\n",
      "|         6.3|         1.14|  [1.14]|12.387256717650914|\n",
      "|         6.3|          1.2|   [1.2]|12.585301434619977|\n",
      "|         6.3|         1.23|  [1.23]|12.684323793104507|\n",
      "|         6.8|         1.01|  [1.01]|11.958159830884613|\n",
      "|         6.8|         1.01|  [1.01]|11.958159830884613|\n",
      "|         6.8|         1.02|  [1.02]| 11.99116728371279|\n",
      "|         6.8|         1.05|  [1.05]| 12.09018964219732|\n",
      "|         6.8|         1.08|  [1.08]|12.189212000681852|\n",
      "|         6.8|         1.09|  [1.09]|12.222219453510029|\n",
      "|         6.8|          1.1|   [1.1]|12.255226906338207|\n",
      "|         6.8|          1.1|   [1.1]|12.255226906338207|\n",
      "|         6.8|          1.1|   [1.1]|12.255226906338207|\n",
      "|         6.8|         1.11|  [1.11]|12.288234359166383|\n",
      "|         6.8|         1.11|  [1.11]|12.288234359166383|\n",
      "|         6.8|         1.11|  [1.11]|12.288234359166383|\n",
      "|         6.8|         1.11|  [1.11]|12.288234359166383|\n",
      "|         6.8|         1.12|  [1.12]|12.321241811994561|\n",
      "+------------+-------------+--------+------------------+\n",
      "only showing top 20 rows\n",
      "\n"
     ]
    },
    {
     "name": "stderr",
     "output_type": "stream",
     "text": [
      "                                                                                \r"
     ]
    }
   ],
   "source": [
    "import seaborn as sns \n",
    "import matplotlib.pyplot as plt \n",
    "\n",
    "pred_data = pred.show()\n"
   ]
  },
  {
   "cell_type": "code",
   "execution_count": null,
   "metadata": {},
   "outputs": [],
   "source": []
  }
 ],
 "metadata": {
  "kernelspec": {
   "display_name": "base",
   "language": "python",
   "name": "python3"
  },
  "language_info": {
   "codemirror_mode": {
    "name": "ipython",
    "version": 3
   },
   "file_extension": ".py",
   "mimetype": "text/x-python",
   "name": "python",
   "nbconvert_exporter": "python",
   "pygments_lexer": "ipython3",
   "version": "3.10.6"
  },
  "orig_nbformat": 4,
  "vscode": {
   "interpreter": {
    "hash": "2516ec9dedd577fb6662378dc80c75bb748f265cb700a702aa389fbd4cb2ebee"
   }
  }
 },
 "nbformat": 4,
 "nbformat_minor": 2
}
