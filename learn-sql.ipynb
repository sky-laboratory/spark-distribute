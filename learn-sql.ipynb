{
 "cells": [
  {
   "cell_type": "code",
   "execution_count": 1,
   "metadata": {},
   "outputs": [],
   "source": [
    "from pyspark.sql import SparkSession"
   ]
  },
  {
   "cell_type": "code",
   "execution_count": 4,
   "metadata": {},
   "outputs": [
    {
     "name": "stdout",
     "output_type": "stream",
     "text": [
      "23/01/18 01:32:18 WARN Utils: Your hostname, imhaneul-ui-MacBookPro.local resolves to a loopback address: 127.0.0.1; using 192.168.0.18 instead (on interface en0)\n",
      "23/01/18 01:32:18 WARN Utils: Set SPARK_LOCAL_IP if you need to bind to another address\n"
     ]
    },
    {
     "name": "stderr",
     "output_type": "stream",
     "text": [
      "Setting default log level to \"WARN\".\n",
      "To adjust logging level use sc.setLogLevel(newLevel). For SparkR, use setLogLevel(newLevel).\n"
     ]
    },
    {
     "name": "stdout",
     "output_type": "stream",
     "text": [
      "23/01/18 01:32:18 WARN NativeCodeLoader: Unable to load native-hadoop library for your platform... using builtin-java classes where applicable\n"
     ]
    }
   ],
   "source": [
    "spark = SparkSession.builder.master(\"local\").appName(\"learn-sql\").getOrCreate()"
   ]
  },
  {
   "cell_type": "code",
   "execution_count": 6,
   "metadata": {},
   "outputs": [],
   "source": [
    "stocks = [\n",
    "    ('Google', 'GOOGL', 'USA', 2984, 'USD'), \n",
    "    ('Netflix', 'NFLX', 'USA', 645, 'USD'),\n",
    "    ('Amazon', 'AMZN', 'USA', 3518, 'USD'),\n",
    "    ('Tesla', 'TSLA', 'USA', 1222, 'USD'),\n",
    "    ('Tencent', '0700', 'Hong Kong', 483, 'HKD'),\n",
    "    ('Toyota', '7203', 'Japan', 2006, 'JPY'),\n",
    "    ('Samsung', '005930', 'Korea', 70600, 'KRW'),\n",
    "    ('Kakao', '035720', 'Korea', 125000, 'KRW'),\n",
    "]"
   ]
  },
  {
   "cell_type": "code",
   "execution_count": 7,
   "metadata": {},
   "outputs": [],
   "source": [
    "stockSchema = [\"name\", \"ticker\", \"country\", \"price\", \"currency\"]"
   ]
  },
  {
   "cell_type": "code",
   "execution_count": 8,
   "metadata": {},
   "outputs": [],
   "source": [
    "df = spark.createDataFrame(data=stocks, schema=stockSchema)"
   ]
  },
  {
   "cell_type": "code",
   "execution_count": 9,
   "metadata": {},
   "outputs": [
    {
     "data": {
      "text/plain": [
       "[('name', 'string'),\n",
       " ('ticker', 'string'),\n",
       " ('country', 'string'),\n",
       " ('price', 'bigint'),\n",
       " ('currency', 'string')]"
      ]
     },
     "execution_count": 9,
     "metadata": {},
     "output_type": "execute_result"
    }
   ],
   "source": [
    "df.dtypes"
   ]
  },
  {
   "cell_type": "code",
   "execution_count": 10,
   "metadata": {},
   "outputs": [
    {
     "name": "stderr",
     "output_type": "stream",
     "text": [
      "[Stage 0:>                                                          (0 + 1) / 1]\r"
     ]
    },
    {
     "name": "stdout",
     "output_type": "stream",
     "text": [
      "+-------+------+---------+------+--------+\n",
      "|   name|ticker|  country| price|currency|\n",
      "+-------+------+---------+------+--------+\n",
      "| Google| GOOGL|      USA|  2984|     USD|\n",
      "|Netflix|  NFLX|      USA|   645|     USD|\n",
      "| Amazon|  AMZN|      USA|  3518|     USD|\n",
      "|  Tesla|  TSLA|      USA|  1222|     USD|\n",
      "|Tencent|  0700|Hong Kong|   483|     HKD|\n",
      "| Toyota|  7203|    Japan|  2006|     JPY|\n",
      "|Samsung|005930|    Korea| 70600|     KRW|\n",
      "|  Kakao|035720|    Korea|125000|     KRW|\n",
      "+-------+------+---------+------+--------+\n",
      "\n"
     ]
    },
    {
     "name": "stderr",
     "output_type": "stream",
     "text": [
      "                                                                                \r"
     ]
    }
   ],
   "source": [
    "df.show()"
   ]
  },
  {
   "cell_type": "code",
   "execution_count": 11,
   "metadata": {},
   "outputs": [],
   "source": [
    "df.createOrReplaceTempView(\"stocks\")"
   ]
  },
  {
   "cell_type": "code",
   "execution_count": 12,
   "metadata": {},
   "outputs": [
    {
     "name": "stdout",
     "output_type": "stream",
     "text": [
      "+-------+\n",
      "|   name|\n",
      "+-------+\n",
      "| Google|\n",
      "|Netflix|\n",
      "| Amazon|\n",
      "|  Tesla|\n",
      "|Tencent|\n",
      "| Toyota|\n",
      "|Samsung|\n",
      "|  Kakao|\n",
      "+-------+\n",
      "\n"
     ]
    }
   ],
   "source": [
    "spark.sql(\"select name from stocks\").show()"
   ]
  },
  {
   "cell_type": "code",
   "execution_count": 14,
   "metadata": {},
   "outputs": [
    {
     "name": "stdout",
     "output_type": "stream",
     "text": [
      "+-------+------+\n",
      "|   name| price|\n",
      "+-------+------+\n",
      "| Google|  2984|\n",
      "|Netflix|   645|\n",
      "| Amazon|  3518|\n",
      "|  Tesla|  1222|\n",
      "|Tencent|   483|\n",
      "| Toyota|  2006|\n",
      "|Samsung| 70600|\n",
      "|  Kakao|125000|\n",
      "+-------+------+\n",
      "\n"
     ]
    }
   ],
   "source": [
    "spark.sql(\"select name, price from stocks\").show()"
   ]
  },
  {
   "cell_type": "code",
   "execution_count": 17,
   "metadata": {},
   "outputs": [
    {
     "name": "stdout",
     "output_type": "stream",
     "text": [
      "+-------+------+\n",
      "|   name| price|\n",
      "+-------+------+\n",
      "|Samsung| 70600|\n",
      "|  Kakao|125000|\n",
      "+-------+------+\n",
      "\n"
     ]
    }
   ],
   "source": [
    "spark.sql(\"select name, price from stocks where country='Korea'\").show()"
   ]
  },
  {
   "cell_type": "code",
   "execution_count": 18,
   "metadata": {},
   "outputs": [
    {
     "name": "stdout",
     "output_type": "stream",
     "text": [
      "+-------+------+\n",
      "|   name| price|\n",
      "+-------+------+\n",
      "| Google|  2984|\n",
      "| Amazon|  3518|\n",
      "| Toyota|  2006|\n",
      "|Samsung| 70600|\n",
      "|  Kakao|125000|\n",
      "+-------+------+\n",
      "\n"
     ]
    }
   ],
   "source": [
    "spark.sql(\"select name, price from stocks where price > 2000\").show()"
   ]
  },
  {
   "cell_type": "code",
   "execution_count": 19,
   "metadata": {},
   "outputs": [
    {
     "name": "stdout",
     "output_type": "stream",
     "text": [
      "+------+-----+\n",
      "|  name|price|\n",
      "+------+-----+\n",
      "|Google| 2984|\n",
      "|Amazon| 3518|\n",
      "+------+-----+\n",
      "\n"
     ]
    }
   ],
   "source": [
    "spark.sql(\"select name, price from stocks where price > 2000 and country = 'USA'\").show()"
   ]
  },
  {
   "cell_type": "code",
   "execution_count": 21,
   "metadata": {},
   "outputs": [
    {
     "name": "stdout",
     "output_type": "stream",
     "text": [
      "+-------+-----+\n",
      "|   name|price|\n",
      "+-------+-----+\n",
      "| Google| 2984|\n",
      "|Netflix|  645|\n",
      "| Amazon| 3518|\n",
      "|  Tesla| 1222|\n",
      "+-------+-----+\n",
      "\n"
     ]
    }
   ],
   "source": [
    "spark.sql(\"select name, price from stocks where country like 'U%'\").show()"
   ]
  },
  {
   "cell_type": "code",
   "execution_count": 22,
   "metadata": {},
   "outputs": [
    {
     "name": "stdout",
     "output_type": "stream",
     "text": [
      "+------+-----+\n",
      "|  name|price|\n",
      "+------+-----+\n",
      "|Amazon| 3518|\n",
      "+------+-----+\n",
      "\n"
     ]
    }
   ],
   "source": [
    "spark.sql(\"select name, price from stocks where country like 'U%' and name not like '%e%'\").show()"
   ]
  },
  {
   "cell_type": "code",
   "execution_count": 24,
   "metadata": {},
   "outputs": [
    {
     "name": "stdout",
     "output_type": "stream",
     "text": [
      "+-------+-----+\n",
      "|   name|price|\n",
      "+-------+-----+\n",
      "| Google| 2984|\n",
      "|Netflix|  645|\n",
      "| Amazon| 3518|\n",
      "|  Tesla| 1222|\n",
      "+-------+-----+\n",
      "\n"
     ]
    }
   ],
   "source": [
    "qs = \"\"\"\n",
    "select \n",
    "    name, price\n",
    "from \n",
    "    stocks\n",
    "where\n",
    "    country='USA'\n",
    "\"\"\"\n",
    "spark.sql(qs).show()"
   ]
  },
  {
   "cell_type": "code",
   "execution_count": 28,
   "metadata": {},
   "outputs": [
    {
     "name": "stdout",
     "output_type": "stream",
     "text": [
      "+------+-----+--------+\n",
      "|  name|price|currency|\n",
      "+------+-----+--------+\n",
      "|Google| 2984|     USD|\n",
      "|Amazon| 3518|     USD|\n",
      "+------+-----+--------+\n",
      "\n"
     ]
    }
   ],
   "source": [
    "qs = \"\"\"\n",
    "select name, price, currency from stocks where  currency='USD' and price > (select price from stocks where name ='Tesla')\n",
    "\"\"\"\n",
    "\n",
    "spark.sql(qs).show()"
   ]
  },
  {
   "cell_type": "code",
   "execution_count": 30,
   "metadata": {},
   "outputs": [
    {
     "name": "stdout",
     "output_type": "stream",
     "text": [
      "+-------+------+\n",
      "|   name| price|\n",
      "+-------+------+\n",
      "|  Kakao|125000|\n",
      "|Samsung| 70600|\n",
      "| Amazon|  3518|\n",
      "| Google|  2984|\n",
      "| Toyota|  2006|\n",
      "|  Tesla|  1222|\n",
      "|Netflix|   645|\n",
      "|Tencent|   483|\n",
      "+-------+------+\n",
      "\n"
     ]
    }
   ],
   "source": [
    "qs = \"\"\"\n",
    "select \n",
    "    name, price\n",
    "from \n",
    "    stocks\n",
    "order by\n",
    "    price desc\n",
    "\n",
    "\"\"\"\n",
    "spark.sql(qs).show()"
   ]
  },
  {
   "cell_type": "code",
   "execution_count": 31,
   "metadata": {},
   "outputs": [
    {
     "name": "stdout",
     "output_type": "stream",
     "text": [
      "+-------+------+\n",
      "|   name| price|\n",
      "+-------+------+\n",
      "|  Tesla|  1222|\n",
      "|  Kakao|125000|\n",
      "| Amazon|  3518|\n",
      "| Toyota|  2006|\n",
      "| Google|  2984|\n",
      "|Netflix|   645|\n",
      "|Samsung| 70600|\n",
      "|Tencent|   483|\n",
      "+-------+------+\n",
      "\n"
     ]
    }
   ],
   "source": [
    "qs = \"\"\"\n",
    "select \n",
    "    name, price\n",
    "from \n",
    "    stocks\n",
    "order by\n",
    "    length(name)\n",
    "\n",
    "\"\"\"\n",
    "spark.sql(qs).show()"
   ]
  },
  {
   "cell_type": "code",
   "execution_count": 32,
   "metadata": {},
   "outputs": [
    {
     "name": "stdout",
     "output_type": "stream",
     "text": [
      "+----------+\n",
      "|sum(price)|\n",
      "+----------+\n",
      "|    195600|\n",
      "+----------+\n",
      "\n"
     ]
    }
   ],
   "source": [
    "qs = \"\"\"\n",
    "select\n",
    "    sum(price)\n",
    "from \n",
    "    stocks\n",
    "where\n",
    "    country = 'Korea'\n",
    "\"\"\"\n",
    "spark.sql(qs).show()"
   ]
  },
  {
   "cell_type": "code",
   "execution_count": 33,
   "metadata": {},
   "outputs": [
    {
     "name": "stdout",
     "output_type": "stream",
     "text": [
      "+-----------+\n",
      "|mean(price)|\n",
      "+-----------+\n",
      "|    97800.0|\n",
      "+-----------+\n",
      "\n"
     ]
    }
   ],
   "source": [
    "qs = \"\"\"\n",
    "select\n",
    "    mean(price)\n",
    "from \n",
    "    stocks\n",
    "where\n",
    "    country = 'Korea'\n",
    "\"\"\"\n",
    "spark.sql(qs).show()"
   ]
  },
  {
   "cell_type": "code",
   "execution_count": 34,
   "metadata": {},
   "outputs": [
    {
     "name": "stdout",
     "output_type": "stream",
     "text": [
      "+------------+\n",
      "|count(price)|\n",
      "+------------+\n",
      "|           2|\n",
      "+------------+\n",
      "\n"
     ]
    }
   ],
   "source": [
    "qs = \"\"\"\n",
    "select\n",
    "    count(price)\n",
    "from \n",
    "    stocks\n",
    "where\n",
    "    country = 'Korea'\n",
    "\"\"\"\n",
    "spark.sql(qs).show()"
   ]
  },
  {
   "cell_type": "code",
   "execution_count": 35,
   "metadata": {},
   "outputs": [
    {
     "name": "stdout",
     "output_type": "stream",
     "text": [
      "+------------+\n",
      "|count(price)|\n",
      "+------------+\n",
      "|           6|\n",
      "+------------+\n",
      "\n"
     ]
    }
   ],
   "source": [
    "qs = \"\"\"\n",
    "select \n",
    "    count(price)\n",
    "from \n",
    "    stocks\n",
    "where\n",
    "    country in ('Korea', 'USA')\n",
    "\"\"\"\n",
    "spark.sql(qs).show()"
   ]
  },
  {
   "cell_type": "code",
   "execution_count": 36,
   "metadata": {},
   "outputs": [],
   "source": [
    "earnings = [\n",
    "    ('Google', 27.99, 'USD'), \n",
    "    ('Netflix', 2.56, 'USD'),\n",
    "    ('Amazon', 6.12, 'USD'),\n",
    "    ('Tesla', 1.86, 'USD'),\n",
    "    ('Tencent', 11.01, 'HKD'),\n",
    "    ('Toyota', 224.82, 'JPY'),\n",
    "    ('Samsung', 1780., 'KRW'),\n",
    "    ('Kakao', 705., 'KRW')\n",
    "]"
   ]
  },
  {
   "cell_type": "code",
   "execution_count": 37,
   "metadata": {},
   "outputs": [],
   "source": [
    "from pyspark.sql.types import StringType, FloatType, StructType, StructField"
   ]
  },
  {
   "cell_type": "code",
   "execution_count": 40,
   "metadata": {},
   "outputs": [],
   "source": [
    "earningsSchema = StructType([\n",
    "    StructField(\"name\", StringType(), True),\n",
    "    StructField(\"eps\", FloatType(), True),\n",
    "    StructField(\"currency\", StringType(), True),\n",
    "])"
   ]
  },
  {
   "cell_type": "code",
   "execution_count": 41,
   "metadata": {},
   "outputs": [],
   "source": [
    "earningsDF = spark.createDataFrame(data=earnings, schema=earningsSchema)"
   ]
  },
  {
   "cell_type": "code",
   "execution_count": 42,
   "metadata": {},
   "outputs": [
    {
     "data": {
      "text/plain": [
       "[('name', 'string'), ('eps', 'float'), ('currency', 'string')]"
      ]
     },
     "execution_count": 42,
     "metadata": {},
     "output_type": "execute_result"
    }
   ],
   "source": [
    "earningsDF.dtypes"
   ]
  },
  {
   "cell_type": "code",
   "execution_count": 43,
   "metadata": {},
   "outputs": [],
   "source": [
    "earningsDF.createOrReplaceTempView(\"earnings\")"
   ]
  },
  {
   "cell_type": "code",
   "execution_count": 44,
   "metadata": {},
   "outputs": [
    {
     "name": "stdout",
     "output_type": "stream",
     "text": [
      "+-------+------+--------+\n",
      "|   name|   eps|currency|\n",
      "+-------+------+--------+\n",
      "| Google| 27.99|     USD|\n",
      "|Netflix|  2.56|     USD|\n",
      "| Amazon|  6.12|     USD|\n",
      "|  Tesla|  1.86|     USD|\n",
      "|Tencent| 11.01|     HKD|\n",
      "| Toyota|224.82|     JPY|\n",
      "|Samsung|1780.0|     KRW|\n",
      "|  Kakao| 705.0|     KRW|\n",
      "+-------+------+--------+\n",
      "\n"
     ]
    }
   ],
   "source": [
    "earningsDF.select(\"*\").show()"
   ]
  },
  {
   "cell_type": "code",
   "execution_count": 45,
   "metadata": {},
   "outputs": [
    {
     "name": "stdout",
     "output_type": "stream",
     "text": [
      "+-------+------+---------+------+--------+-------+------+--------+\n",
      "|   name|ticker|  country| price|currency|   name|   eps|currency|\n",
      "+-------+------+---------+------+--------+-------+------+--------+\n",
      "| Amazon|  AMZN|      USA|  3518|     USD| Amazon|  6.12|     USD|\n",
      "| Google| GOOGL|      USA|  2984|     USD| Google| 27.99|     USD|\n",
      "|  Kakao|035720|    Korea|125000|     KRW|  Kakao| 705.0|     KRW|\n",
      "|Netflix|  NFLX|      USA|   645|     USD|Netflix|  2.56|     USD|\n",
      "|Samsung|005930|    Korea| 70600|     KRW|Samsung|1780.0|     KRW|\n",
      "|Tencent|  0700|Hong Kong|   483|     HKD|Tencent| 11.01|     HKD|\n",
      "|  Tesla|  TSLA|      USA|  1222|     USD|  Tesla|  1.86|     USD|\n",
      "| Toyota|  7203|    Japan|  2006|     JPY| Toyota|224.82|     JPY|\n",
      "+-------+------+---------+------+--------+-------+------+--------+\n",
      "\n"
     ]
    }
   ],
   "source": [
    "qs = \"\"\"\n",
    "select\n",
    "    *\n",
    "from \n",
    "    stocks\n",
    "join\n",
    "    earnings on stocks.name = earnings.name\n",
    "\"\"\"\n",
    "spark.sql(qs).show()"
   ]
  },
  {
   "cell_type": "code",
   "execution_count": 48,
   "metadata": {},
   "outputs": [
    {
     "name": "stdout",
     "output_type": "stream",
     "text": [
      "+-------+------------------+\n",
      "|   name|     (price / eps)|\n",
      "+-------+------------------+\n",
      "| Amazon| 574.8366120563447|\n",
      "| Google| 106.6095042658442|\n",
      "|  Kakao| 177.3049645390071|\n",
      "|Netflix| 251.9531306315913|\n",
      "|Samsung|39.662921348314605|\n",
      "|Tencent| 43.86920889728746|\n",
      "|  Tesla|  656.989242258975|\n",
      "| Toyota| 8.922693419839167|\n",
      "+-------+------------------+\n",
      "\n"
     ]
    }
   ],
   "source": [
    "#PER price / eps 회사 주가 췤 \n",
    "qs = \"\"\"\n",
    "select \n",
    "    stocks.name, (stocks.price/earnings.eps)\n",
    "from \n",
    "    stocks\n",
    "join\n",
    "    earnings on stocks.name = earnings.name\n",
    "\n",
    "\"\"\"\n",
    "\n",
    "spark.sql(qs).show()"
   ]
  },
  {
   "cell_type": "code",
   "execution_count": null,
   "metadata": {},
   "outputs": [],
   "source": []
  }
 ],
 "metadata": {
  "kernelspec": {
   "display_name": "base",
   "language": "python",
   "name": "python3"
  },
  "language_info": {
   "codemirror_mode": {
    "name": "ipython",
    "version": 3
   },
   "file_extension": ".py",
   "mimetype": "text/x-python",
   "name": "python",
   "nbconvert_exporter": "python",
   "pygments_lexer": "ipython3",
   "version": "3.10.6"
  },
  "orig_nbformat": 4,
  "vscode": {
   "interpreter": {
    "hash": "2516ec9dedd577fb6662378dc80c75bb748f265cb700a702aa389fbd4cb2ebee"
   }
  }
 },
 "nbformat": 4,
 "nbformat_minor": 2
}
