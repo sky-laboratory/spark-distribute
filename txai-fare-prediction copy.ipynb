{
 "cells": [
  {
   "cell_type": "code",
   "execution_count": 1,
   "metadata": {},
   "outputs": [],
   "source": [
    "from pyspark.sql import SparkSession"
   ]
  },
  {
   "cell_type": "code",
   "execution_count": 2,
   "metadata": {},
   "outputs": [
    {
     "name": "stdout",
     "output_type": "stream",
     "text": [
      "23/02/08 19:32:46 WARN Utils: Your hostname, imhaneul-ui-MacBookPro.local resolves to a loopback address: 127.0.0.1; using 172.30.1.22 instead (on interface en0)\n",
      "23/02/08 19:32:46 WARN Utils: Set SPARK_LOCAL_IP if you need to bind to another address\n"
     ]
    },
    {
     "name": "stderr",
     "output_type": "stream",
     "text": [
      "Setting default log level to \"WARN\".\n",
      "To adjust logging level use sc.setLogLevel(newLevel). For SparkR, use setLogLevel(newLevel).\n"
     ]
    },
    {
     "name": "stdout",
     "output_type": "stream",
     "text": [
      "23/02/08 19:32:47 WARN NativeCodeLoader: Unable to load native-hadoop library for your platform... using builtin-java classes where applicable\n",
      "23/02/08 19:32:48 WARN Utils: Service 'SparkUI' could not bind on port 4040. Attempting port 4041.\n"
     ]
    }
   ],
   "source": [
    "MAX_MEMORY = \"5g\"\n",
    "spark = SparkSession.builder.appName(\"taxi-analysis\")\\\n",
    "    .config(\"spark.executer.memory\", MAX_MEMORY)\\\n",
    "    .config(\"spark.drive.memory\", MAX_MEMORY).getOrCreate()"
   ]
  },
  {
   "cell_type": "code",
   "execution_count": 3,
   "metadata": {},
   "outputs": [],
   "source": [
    "trip_files = \"/Users/imhaneul/Documents/sky-laboratory/spark-distribute/data/trips/*\""
   ]
  },
  {
   "cell_type": "code",
   "execution_count": 4,
   "metadata": {},
   "outputs": [
    {
     "name": "stderr",
     "output_type": "stream",
     "text": [
      "                                                                                \r"
     ]
    }
   ],
   "source": [
    "trips_df = spark.read.parquet(f\"file:///{trip_files}\")"
   ]
  },
  {
   "cell_type": "code",
   "execution_count": 5,
   "metadata": {},
   "outputs": [
    {
     "name": "stdout",
     "output_type": "stream",
     "text": [
      "root\n",
      " |-- VendorID: long (nullable = true)\n",
      " |-- tpep_pickup_datetime: timestamp (nullable = true)\n",
      " |-- tpep_dropoff_datetime: timestamp (nullable = true)\n",
      " |-- passenger_count: double (nullable = true)\n",
      " |-- trip_distance: double (nullable = true)\n",
      " |-- RatecodeID: double (nullable = true)\n",
      " |-- store_and_fwd_flag: string (nullable = true)\n",
      " |-- PULocationID: long (nullable = true)\n",
      " |-- DOLocationID: long (nullable = true)\n",
      " |-- payment_type: long (nullable = true)\n",
      " |-- fare_amount: double (nullable = true)\n",
      " |-- extra: double (nullable = true)\n",
      " |-- mta_tax: double (nullable = true)\n",
      " |-- tip_amount: double (nullable = true)\n",
      " |-- tolls_amount: double (nullable = true)\n",
      " |-- improvement_surcharge: double (nullable = true)\n",
      " |-- total_amount: double (nullable = true)\n",
      " |-- congestion_surcharge: double (nullable = true)\n",
      " |-- airport_fee: double (nullable = true)\n",
      "\n"
     ]
    }
   ],
   "source": [
    "trips_df.printSchema()"
   ]
  },
  {
   "cell_type": "code",
   "execution_count": 6,
   "metadata": {},
   "outputs": [],
   "source": [
    "trips_df.createOrReplaceTempView(\"trips\")"
   ]
  },
  {
   "cell_type": "code",
   "execution_count": 7,
   "metadata": {},
   "outputs": [],
   "source": [
    "qs = \"\"\"\n",
    "SELECT\n",
    "    passenger_count,\n",
    "    PULocationID as pickup_location_id,\n",
    "    DOLocationID as dropoff_location_id,\n",
    "    trip_distance,\n",
    "    HOUR(tpep_pickup_datetime) as pickup_time,\n",
    "    DATE_FORMAT(tpep_pickup_datetime, 'EEEE') as day_of_week, \n",
    "    total_amount\n",
    "FROM \n",
    "    trips\n",
    "WHERE\n",
    "    total_amount < 5000\n",
    "    AND total_amount > 0\n",
    "    AND trip_distance > 0\n",
    "    AND trip_distance < 500\n",
    "    AND passenger_count < 4\n",
    "    AND TO_DATE(tpep_pickup_datetime) >= '2021-01-01'\n",
    "    AND TO_DATE(tpep_pickup_datetime) < '2021-08-01'\n",
    "\"\"\"\n",
    "data_df = spark.sql(qs)\n",
    "data_df.createOrReplaceTempView(\"data\")"
   ]
  },
  {
   "cell_type": "code",
   "execution_count": 8,
   "metadata": {},
   "outputs": [
    {
     "name": "stderr",
     "output_type": "stream",
     "text": [
      "[Stage 1:>                                                          (0 + 1) / 1]\r"
     ]
    },
    {
     "name": "stdout",
     "output_type": "stream",
     "text": [
      "+---------------+------------------+-------------------+-------------+-----------+-----------+------------+\n",
      "|passenger_count|pickup_location_id|dropoff_location_id|trip_distance|pickup_time|day_of_week|total_amount|\n",
      "+---------------+------------------+-------------------+-------------+-----------+-----------+------------+\n",
      "|            0.0|               138|                265|         16.5|          9|     Monday|       70.07|\n",
      "|            1.0|                68|                264|         1.13|          9|     Monday|       11.16|\n",
      "|            1.0|               239|                262|         2.68|          9|     Monday|       18.59|\n",
      "|            1.0|               186|                 91|         12.4|          9|     Monday|        43.8|\n",
      "|            2.0|               132|                265|          9.7|          9|     Monday|        32.3|\n",
      "|            1.0|               138|                141|          9.3|          9|     Monday|       43.67|\n",
      "|            1.0|               138|                 50|         9.58|          9|     Monday|        46.1|\n",
      "|            1.0|               132|                123|         16.2|          9|     Monday|        45.3|\n",
      "|            1.0|               140|                  7|         3.58|          9|     Monday|        19.3|\n",
      "|            1.0|               239|                238|         0.91|          9|     Monday|        14.8|\n",
      "|            2.0|               116|                 41|         2.57|          9|     Monday|        12.8|\n",
      "|            1.0|                74|                 41|          0.4|          9|     Monday|         5.3|\n",
      "|            1.0|               239|                144|         3.26|          9|     Monday|        17.3|\n",
      "|            1.0|               132|                 91|        13.41|          9|     Monday|       47.25|\n",
      "|            2.0|               132|                230|         18.3|          9|     Monday|       61.42|\n",
      "|            1.0|               229|                 48|         1.53|          9|     Monday|       14.16|\n",
      "|            1.0|                48|                 68|          2.0|          9|     Monday|        11.8|\n",
      "|            2.0|               132|                255|         16.6|          9|     Monday|       54.96|\n",
      "|            1.0|               132|                145|         15.5|          9|     Monday|       56.25|\n",
      "|            2.0|                79|                164|          1.3|          9|     Monday|        16.8|\n",
      "+---------------+------------------+-------------------+-------------+-----------+-----------+------------+\n",
      "only showing top 20 rows\n",
      "\n"
     ]
    },
    {
     "name": "stderr",
     "output_type": "stream",
     "text": [
      "                                                                                \r"
     ]
    }
   ],
   "source": [
    "data_df.show()"
   ]
  },
  {
   "cell_type": "code",
   "execution_count": 9,
   "metadata": {},
   "outputs": [
    {
     "name": "stdout",
     "output_type": "stream",
     "text": [
      "root\n",
      " |-- passenger_count: double (nullable = true)\n",
      " |-- pickup_location_id: long (nullable = true)\n",
      " |-- dropoff_location_id: long (nullable = true)\n",
      " |-- trip_distance: double (nullable = true)\n",
      " |-- pickup_time: integer (nullable = true)\n",
      " |-- day_of_week: string (nullable = true)\n",
      " |-- total_amount: double (nullable = true)\n",
      "\n"
     ]
    }
   ],
   "source": [
    "data_df.printSchema()"
   ]
  },
  {
   "cell_type": "code",
   "execution_count": 10,
   "metadata": {},
   "outputs": [],
   "source": [
    "train_df, test_df = data_df.randomSplit([0.8, 0.2], seed=2023)"
   ]
  },
  {
   "cell_type": "code",
   "execution_count": 11,
   "metadata": {},
   "outputs": [],
   "source": [
    "data_dir = \"/Users/imhaneul/Documents/sky-laboratory/spark-distribute/data\""
   ]
  },
  {
   "cell_type": "code",
   "execution_count": 12,
   "metadata": {},
   "outputs": [],
   "source": [
    "# train_df.write.format(\"parquet\").save(f\"{data_dir}/train/\")\n",
    "# test_df.write.format(\"parquet\").save(f\"{data_dir}/test/\")"
   ]
  },
  {
   "cell_type": "code",
   "execution_count": 13,
   "metadata": {},
   "outputs": [],
   "source": [
    "train_df = spark.read.parquet(f\"{data_dir}/train/\")\n",
    "test_df = spark.read.parquet(f\"{data_dir}/test/\")"
   ]
  },
  {
   "cell_type": "code",
   "execution_count": 14,
   "metadata": {},
   "outputs": [
    {
     "name": "stdout",
     "output_type": "stream",
     "text": [
      "root\n",
      " |-- passenger_count: double (nullable = true)\n",
      " |-- pickup_location_id: long (nullable = true)\n",
      " |-- dropoff_location_id: long (nullable = true)\n",
      " |-- trip_distance: double (nullable = true)\n",
      " |-- pickup_time: integer (nullable = true)\n",
      " |-- day_of_week: string (nullable = true)\n",
      " |-- total_amount: double (nullable = true)\n",
      "\n"
     ]
    }
   ],
   "source": [
    "train_df.printSchema()"
   ]
  },
  {
   "attachments": {},
   "cell_type": "markdown",
   "metadata": {},
   "source": [
    "### stringIndexer 를 이용해서 string -> int -> onehotencoing"
   ]
  },
  {
   "cell_type": "code",
   "execution_count": 15,
   "metadata": {},
   "outputs": [],
   "source": [
    "from pyspark.ml.feature import OneHotEncoder, StringIndexer\n",
    "\n",
    "cat_feature = [\n",
    "    \"pickup_location_id\",\n",
    "    \"dropoff_location_id\",\n",
    "    \"day_of_week\"\n",
    "]\n",
    "stages = []\n",
    "\n",
    "for c in cat_feature:\n",
    "    cat_indexer = StringIndexer(inputCol=c, outputCol=c+\"_idx\").setHandleInvalid(\"keep\")\n",
    "    onehot_encoder = OneHotEncoder(inputCols=[cat_indexer.getOutputCol()], outputCols=[c+\"_onehot\"])\n",
    "    stages += [cat_indexer, onehot_encoder]"
   ]
  },
  {
   "attachments": {},
   "cell_type": "markdown",
   "metadata": {},
   "source": [
    "### VectorAssembler -> StandartScala  Scarla Normalization"
   ]
  },
  {
   "cell_type": "code",
   "execution_count": 16,
   "metadata": {},
   "outputs": [],
   "source": [
    "from pyspark.ml.feature import VectorAssembler, StandardScaler\n",
    "\n",
    "num_feature = [\n",
    "    \"passenger_count\",\n",
    "    \"trip_distance\",\n",
    "    \"pickup_time\"\n",
    "]\n",
    "for n in num_feature:\n",
    "    num_assembler = VectorAssembler(inputCols=[n], outputCol=n+\"_vector\")\n",
    "    num_scaler = StandardScaler(inputCol=num_assembler.getOutputCol(), outputCol=n+\"_scaled\")\n",
    "    stages += [num_assembler, num_scaler]"
   ]
  },
  {
   "cell_type": "code",
   "execution_count": 17,
   "metadata": {},
   "outputs": [],
   "source": [
    "assembler_inputs = [c+\"_onehot\" for c in cat_feature] + [n+\"_scaled\" for n in num_feature]\n",
    "assembler = VectorAssembler(inputCols=assembler_inputs, outputCol=\"feature_vector\")\n",
    "stages += [assembler]"
   ]
  },
  {
   "cell_type": "code",
   "execution_count": 18,
   "metadata": {},
   "outputs": [
    {
     "data": {
      "text/plain": [
       "[StringIndexer_2ae8a176a5b7,\n",
       " OneHotEncoder_09d3c08d98be,\n",
       " StringIndexer_23943f658660,\n",
       " OneHotEncoder_1f39b423d1f1,\n",
       " StringIndexer_f8dda883124f,\n",
       " OneHotEncoder_e9f568846756,\n",
       " VectorAssembler_e37cbee68dd0,\n",
       " StandardScaler_80f4ff9d7a7b,\n",
       " VectorAssembler_43fb4561ac13,\n",
       " StandardScaler_de43949a36d9,\n",
       " VectorAssembler_493b7994993e,\n",
       " StandardScaler_7c34e54b0423,\n",
       " VectorAssembler_7736a6464d12]"
      ]
     },
     "execution_count": 18,
     "metadata": {},
     "output_type": "execute_result"
    }
   ],
   "source": [
    "stages"
   ]
  },
  {
   "cell_type": "code",
   "execution_count": 19,
   "metadata": {},
   "outputs": [
    {
     "name": "stderr",
     "output_type": "stream",
     "text": [
      "                                                                                \r"
     ]
    }
   ],
   "source": [
    "from pyspark.ml.pipeline import Pipeline\n",
    "\n",
    "transform_stage = stages\n",
    "pipeline = Pipeline(stages=transform_stage)\n",
    "fitted_transformer = pipeline.fit(train_df)\n"
   ]
  },
  {
   "cell_type": "code",
   "execution_count": 20,
   "metadata": {},
   "outputs": [],
   "source": [
    "vtrain_df = fitted_transformer.transform(train_df)"
   ]
  },
  {
   "cell_type": "code",
   "execution_count": 21,
   "metadata": {},
   "outputs": [],
   "source": [
    "from pyspark.ml.regression import LinearRegression\n",
    "\n",
    "lr = LinearRegression(\n",
    "    maxIter=50,\n",
    "    solver=\"normal\",\n",
    "    labelCol=\"total_amount\",\n",
    "    featuresCol=\"feature_vector\"\n",
    ")"
   ]
  },
  {
   "cell_type": "code",
   "execution_count": 22,
   "metadata": {},
   "outputs": [
    {
     "name": "stdout",
     "output_type": "stream",
     "text": [
      "23/02/08 19:33:15 WARN Instrumentation: [7256c1e2] regParam is zero, which might cause numerical instability and overfitting.\n"
     ]
    },
    {
     "name": "stderr",
     "output_type": "stream",
     "text": [
      "[Stage 22:=======>                                                  (1 + 7) / 8]\r"
     ]
    },
    {
     "name": "stdout",
     "output_type": "stream",
     "text": [
      "23/02/08 19:33:28 WARN InstanceBuilder$NativeBLAS: Failed to load implementation from:dev.ludovic.netlib.blas.JNIBLAS\n",
      "23/02/08 19:33:28 WARN InstanceBuilder$NativeBLAS: Failed to load implementation from:dev.ludovic.netlib.blas.ForeignLinkerBLAS\n"
     ]
    },
    {
     "name": "stderr",
     "output_type": "stream",
     "text": [
      "                                                                                \r"
     ]
    },
    {
     "name": "stdout",
     "output_type": "stream",
     "text": [
      "23/02/08 19:33:37 WARN InstanceBuilder$NativeLAPACK: Failed to load implementation from:dev.ludovic.netlib.lapack.JNILAPACK\n",
      "23/02/08 19:33:37 WARN Instrumentation: [7256c1e2] Cholesky solver failed due to singular covariance matrix. Retrying with Quasi-Newton solver.\n",
      "23/02/08 19:33:37 WARN BLAS: Failed to load implementation from: com.github.fommil.netlib.NativeSystemBLAS\n",
      "23/02/08 19:33:37 WARN BLAS: Failed to load implementation from: com.github.fommil.netlib.NativeRefBLAS\n"
     ]
    },
    {
     "name": "stderr",
     "output_type": "stream",
     "text": [
      "                                                                                \r"
     ]
    }
   ],
   "source": [
    "model = lr.fit(vtrain_df)"
   ]
  },
  {
   "cell_type": "code",
   "execution_count": 23,
   "metadata": {},
   "outputs": [],
   "source": [
    "vtest_df = fitted_transformer.transform(test_df)"
   ]
  },
  {
   "cell_type": "code",
   "execution_count": 24,
   "metadata": {},
   "outputs": [],
   "source": [
    "pred = model.transform(vtest_df)"
   ]
  },
  {
   "cell_type": "code",
   "execution_count": 25,
   "metadata": {},
   "outputs": [
    {
     "data": {
      "text/plain": [
       "DataFrame[passenger_count: double, pickup_location_id: bigint, dropoff_location_id: bigint, trip_distance: double, pickup_time: int, day_of_week: string, total_amount: double, pickup_location_id_idx: double, pickup_location_id_onehot: vector, dropoff_location_id_idx: double, dropoff_location_id_onehot: vector, day_of_week_idx: double, day_of_week_onehot: vector, passenger_count_vector: vector, passenger_count_scaled: vector, trip_distance_vector: vector, trip_distance_scaled: vector, pickup_time_vector: vector, pickup_time_scaled: vector, feature_vector: vector, prediction: double]"
      ]
     },
     "execution_count": 25,
     "metadata": {},
     "output_type": "execute_result"
    }
   ],
   "source": [
    "pred.cache()"
   ]
  },
  {
   "cell_type": "code",
   "execution_count": 26,
   "metadata": {},
   "outputs": [
    {
     "name": "stderr",
     "output_type": "stream",
     "text": [
      "[Stage 26:>                                                         (0 + 1) / 1]\r"
     ]
    },
    {
     "name": "stdout",
     "output_type": "stream",
     "text": [
      "23/02/08 19:35:02 WARN MemoryStore: Not enough space to cache rdd_94_0 in memory! (computed 252.3 MiB so far)\n",
      "23/02/08 19:35:02 WARN BlockManager: Persisting block rdd_94_0 to disk instead.\n",
      "23/02/08 19:35:05 WARN MemoryStore: Not enough space to cache rdd_94_0 in memory! (computed 252.3 MiB so far)\n",
      "+---------------+------------------+-------------------+-------------+-----------+-----------+------------+----------------------+-------------------------+-----------------------+--------------------------+---------------+------------------+----------------------+----------------------+--------------------+--------------------+------------------+--------------------+--------------------+------------------+\n",
      "|passenger_count|pickup_location_id|dropoff_location_id|trip_distance|pickup_time|day_of_week|total_amount|pickup_location_id_idx|pickup_location_id_onehot|dropoff_location_id_idx|dropoff_location_id_onehot|day_of_week_idx|day_of_week_onehot|passenger_count_vector|passenger_count_scaled|trip_distance_vector|trip_distance_scaled|pickup_time_vector|  pickup_time_scaled|      feature_vector|        prediction|\n",
      "+---------------+------------------+-------------------+-------------+-----------+-----------+------------+----------------------+-------------------------+-----------------------+--------------------------+---------------+------------------+----------------------+----------------------+--------------------+--------------------+------------------+--------------------+--------------------+------------------+\n",
      "|            0.0|                 1|                 13|         13.6|          1|     Sunday|      125.65|                 175.0|        (263,[175],[1.0])|                   44.0|          (261,[44],[1.0])|            5.0|     (7,[5],[1.0])|                 [0.0]|                 [0.0]|              [13.6]|[3.5598234303724747]|             [1.0]|[0.1185638871512484]|(534,[175,307,529...| 73.71495057546655|\n",
      "|            0.0|                 4|                 74|          6.9|         20|     Sunday|       32.25|                  62.0|         (263,[62],[1.0])|                   34.0|          (261,[34],[1.0])|            5.0|     (7,[5],[1.0])|                 [0.0]|                 [0.0]|               [6.9]| [1.806086887468388]|            [20.0]| [2.371277743024968]|(534,[62,297,529,...| 25.95872352592943|\n",
      "|            0.0|                 4|                 75|          5.5|          0|     Sunday|       26.75|                  62.0|         (263,[62],[1.0])|                   19.0|          (261,[19],[1.0])|            5.0|     (7,[5],[1.0])|                 [0.0]|                 [0.0]|               [5.5]|[1.4396344755182802]|             [0.0]|               [0.0]|(534,[62,282,529,...|23.449497180098913|\n",
      "|            0.0|                 4|                113|          1.4|         21|   Saturday|        16.0|                  62.0|         (263,[62],[1.0])|                   32.0|          (261,[32],[1.0])|            2.0|     (7,[2],[1.0])|                 [0.0]|                 [0.0]|               [1.4]|[0.3664524119501077]|            [21.0]|[2.4898416301762163]|(534,[62,295,526,...| 13.92556924949832|\n",
      "|            0.0|                 4|                114|          1.1|          6|  Wednesday|       12.95|                  62.0|         (263,[62],[1.0])|                   37.0|          (261,[37],[1.0])|            3.0|     (7,[3],[1.0])|                 [0.0]|                 [0.0]|               [1.1]|[0.28792689510365...|             [6.0]|[0.7113833229074904]|(534,[62,300,527,...|14.039882436661811|\n",
      "|            0.0|                 4|                144|          1.7|          3|  Wednesday|        14.3|                  62.0|         (263,[62],[1.0])|                   41.0|          (261,[41],[1.0])|            3.0|     (7,[3],[1.0])|                 [0.0]|                 [0.0]|               [1.7]|[0.44497792879655...|             [3.0]|[0.3556916614537452]|(534,[62,304,527,...|16.378074531428755|\n",
      "|            0.0|                 4|                164|          2.1|         22|  Wednesday|       20.75|                  62.0|         (263,[62],[1.0])|                   20.0|          (261,[20],[1.0])|            3.0|     (7,[3],[1.0])|                 [0.0]|                 [0.0]|               [2.1]|[0.5496786179251616]|            [22.0]|[2.6084055173274647]|(534,[62,283,527,...|15.564671109637509|\n",
      "|            0.0|                 4|                170|          2.4|         23|   Saturday|       14.75|                  62.0|         (263,[62],[1.0])|                    4.0|           (261,[4],[1.0])|            2.0|     (7,[2],[1.0])|                 [0.0]|                 [0.0]|               [2.4]|[0.6282041347716132]|            [23.0]| [2.726969404478713]|(534,[62,267,526,...|16.008819829878707|\n",
      "|            0.0|                 4|                186|          3.1|          0|  Wednesday|        18.8|                  62.0|         (263,[62],[1.0])|                   16.0|          (261,[16],[1.0])|            3.0|     (7,[3],[1.0])|                 [0.0]|                 [0.0]|               [3.1]|[0.8114303407466671]|             [0.0]|               [0.0]|(534,[62,279,527,...| 18.95922428968252|\n",
      "|            0.0|                 4|                234|          1.9|         22|   Thursday|        18.3|                  62.0|         (263,[62],[1.0])|                   12.0|          (261,[12],[1.0])|            0.0|     (7,[0],[1.0])|                 [0.0]|                 [0.0]|               [1.9]|[0.49732827336086...|            [22.0]|[2.6084055173274647]|(534,[62,275,524,...|14.917739586136808|\n",
      "|            0.0|                 4|                234|          2.4|         22|    Tuesday|       18.35|                  62.0|         (263,[62],[1.0])|                   12.0|          (261,[12],[1.0])|            4.0|     (7,[4],[1.0])|                 [0.0]|                 [0.0]|               [2.4]|[0.6282041347716132]|            [22.0]|[2.6084055173274647]|(534,[62,275,528,...|15.822534456027952|\n",
      "|            0.0|                 4|                249|          1.8|          4|     Sunday|       17.15|                  62.0|         (263,[62],[1.0])|                   22.0|          (261,[22],[1.0])|            5.0|     (7,[5],[1.0])|                 [0.0]|                 [0.0]|               [1.8]|[0.4711531010787099]|             [4.0]|[0.4742555486049936]|(534,[62,285,529,...|14.889256220104727|\n",
      "|            0.0|                 4|                249|          2.4|          1|     Sunday|        18.3|                  62.0|         (263,[62],[1.0])|                   22.0|          (261,[22],[1.0])|            5.0|     (7,[5],[1.0])|                 [0.0]|                 [0.0]|               [2.4]|[0.6282041347716132]|             [1.0]|[0.1185638871512484]|(534,[62,285,529,...|16.541721399354493|\n",
      "|            0.0|                 7|                 31|          9.9|         21|   Saturday|       46.35|                  63.0|         (263,[63],[1.0])|                  200.0|         (261,[200],[1.0])|            2.0|     (7,[2],[1.0])|                 [0.0]|                 [0.0]|               [9.9]|[2.5913420559329046]|            [21.0]|[2.4898416301762163]|(534,[63,463,526,...|39.159327818255896|\n",
      "|            0.0|                 7|                 80|          4.1|         14|  Wednesday|        19.3|                  63.0|         (263,[63],[1.0])|                   83.0|          (261,[83],[1.0])|            3.0|     (7,[3],[1.0])|                 [0.0]|                 [0.0]|               [4.1]|[1.0731820635681724]|            [14.0]|[1.6598944201174775]|(534,[63,346,527,...|20.438549780794453|\n",
      "|            0.0|                 7|                112|          5.6|         23|   Saturday|       23.15|                  63.0|         (263,[63],[1.0])|                   70.0|          (261,[70],[1.0])|            2.0|     (7,[2],[1.0])|                 [0.0]|                 [0.0]|               [5.6]|[1.4658096478004308]|            [23.0]| [2.726969404478713]|(534,[63,333,526,...|24.729493795970598|\n",
      "|            0.0|                 7|                140|          3.6|         17|  Wednesday|       27.35|                  63.0|         (263,[63],[1.0])|                   10.0|          (261,[10],[1.0])|            3.0|     (7,[3],[1.0])|                 [0.0]|                 [0.0]|               [3.6]|[0.9423062021574198]|            [17.0]|[2.0155860815712225]|(534,[63,273,527,...|17.640861500014218|\n",
      "|            0.0|                 7|                173|          2.9|         10|     Sunday|        16.8|                  63.0|         (263,[63],[1.0])|                  137.0|         (261,[137],[1.0])|            5.0|     (7,[5],[1.0])|                 [0.0]|                 [0.0]|               [2.9]|[0.7590799961823659]|            [10.0]| [1.185638871512484]|(534,[63,400,529,...|12.573153961380248|\n",
      "|            0.0|                 7|                193|          0.6|         16|    Tuesday|         4.8|                  63.0|         (263,[63],[1.0])|                  107.0|         (261,[107],[1.0])|            4.0|     (7,[4],[1.0])|                 [0.0]|                 [0.0]|               [0.6]|[0.1570510336929033]|            [16.0]|[1.8970221944199743]|(534,[63,370,528,...|7.1780170071886005|\n",
      "|            0.0|                 7|                202|          1.3|         14|     Sunday|         7.8|                  63.0|         (263,[63],[1.0])|                  104.0|         (261,[104],[1.0])|            5.0|     (7,[5],[1.0])|                 [0.0]|                 [0.0]|               [1.3]|[0.34027723966795...|            [14.0]|[1.6598944201174775]|(534,[63,367,529,...|11.972199492131647|\n",
      "+---------------+------------------+-------------------+-------------+-----------+-----------+------------+----------------------+-------------------------+-----------------------+--------------------------+---------------+------------------+----------------------+----------------------+--------------------+--------------------+------------------+--------------------+--------------------+------------------+\n",
      "only showing top 20 rows\n",
      "\n"
     ]
    },
    {
     "name": "stderr",
     "output_type": "stream",
     "text": [
      "                                                                                \r"
     ]
    }
   ],
   "source": [
    "pred.show()"
   ]
  },
  {
   "cell_type": "code",
   "execution_count": 29,
   "metadata": {},
   "outputs": [
    {
     "name": "stdout",
     "output_type": "stream",
     "text": [
      "23/02/08 19:36:12 WARN MemoryStore: Not enough space to cache rdd_94_0 in memory! (computed 252.3 MiB so far)\n",
      "+-------------+-----------+------------+------------------+\n",
      "|trip_distance|day_of_week|total_amount|        prediction|\n",
      "+-------------+-----------+------------+------------------+\n",
      "|         13.6|     Sunday|      125.65| 73.71495057546655|\n",
      "|          6.9|     Sunday|       32.25| 25.95872352592943|\n",
      "|          5.5|     Sunday|       26.75|23.449497180098913|\n",
      "|          1.4|   Saturday|        16.0| 13.92556924949832|\n",
      "|          1.1|  Wednesday|       12.95|14.039882436661811|\n",
      "|          1.7|  Wednesday|        14.3|16.378074531428755|\n",
      "|          2.1|  Wednesday|       20.75|15.564671109637509|\n",
      "|          2.4|   Saturday|       14.75|16.008819829878707|\n",
      "|          3.1|  Wednesday|        18.8| 18.95922428968252|\n",
      "|          1.9|   Thursday|        18.3|14.917739586136808|\n",
      "|          2.4|    Tuesday|       18.35|15.822534456027952|\n",
      "|          1.8|     Sunday|       17.15|14.889256220104727|\n",
      "|          2.4|     Sunday|        18.3|16.541721399354493|\n",
      "|          9.9|   Saturday|       46.35|39.159327818255896|\n",
      "|          4.1|  Wednesday|        19.3|20.438549780794453|\n",
      "|          5.6|   Saturday|       23.15|24.729493795970598|\n",
      "|          3.6|  Wednesday|       27.35|17.640861500014218|\n",
      "|          2.9|     Sunday|        16.8|12.573153961380248|\n",
      "|          0.6|    Tuesday|         4.8|7.1780170071886005|\n",
      "|          1.3|     Sunday|         7.8|11.972199492131647|\n",
      "+-------------+-----------+------------+------------------+\n",
      "only showing top 20 rows\n",
      "\n"
     ]
    }
   ],
   "source": [
    "pred.select([\"trip_distance\", \"day_of_week\", \"total_amount\", \"prediction\"]).show()"
   ]
  },
  {
   "cell_type": "code",
   "execution_count": 30,
   "metadata": {},
   "outputs": [
    {
     "name": "stdout",
     "output_type": "stream",
     "text": [
      "5.883284185514268\n",
      "0.7950109352980362\n"
     ]
    }
   ],
   "source": [
    "print(model.summary.rootMeanSquaredError)\n",
    "print(model.summary.r2)"
   ]
  },
  {
   "cell_type": "code",
   "execution_count": null,
   "metadata": {},
   "outputs": [],
   "source": []
  }
 ],
 "metadata": {
  "kernelspec": {
   "display_name": "base",
   "language": "python",
   "name": "python3"
  },
  "language_info": {
   "codemirror_mode": {
    "name": "ipython",
    "version": 3
   },
   "file_extension": ".py",
   "mimetype": "text/x-python",
   "name": "python",
   "nbconvert_exporter": "python",
   "pygments_lexer": "ipython3",
   "version": "3.10.6"
  },
  "orig_nbformat": 4,
  "vscode": {
   "interpreter": {
    "hash": "2516ec9dedd577fb6662378dc80c75bb748f265cb700a702aa389fbd4cb2ebee"
   }
  }
 },
 "nbformat": 4,
 "nbformat_minor": 2
}
